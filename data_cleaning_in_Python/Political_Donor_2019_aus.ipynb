{
 "cells": [
  {
   "cell_type": "markdown",
   "metadata": {},
   "source": [
    "Import libraries"
   ]
  },
  {
   "cell_type": "code",
   "execution_count": 61,
   "metadata": {},
   "outputs": [],
   "source": [
    "import pandas as pd\n",
    "import numpy as np\n",
    "import matplotlib.pyplot as plt\n",
    "import seaborn as sns\n",
    "import urllib\n",
    "import requests\n",
    "import bs4\n",
    "from bs4 import BeautifulSoup"
   ]
  },
  {
   "cell_type": "markdown",
   "metadata": {},
   "source": [
    "Data from https://www.abc.net.au/news/2019-02-01/donations-australia-federal-politics-foreign/10768226\n",
    "\n",
    "The Australian Electoral Commission (AEC) has released donation information for the 2017-18 period, the final glimpse into donations the public will receive prior to this year's election.\n",
    "\n",
    "Companies, organisations and individuals arguably make political donations for one reason only to influence Australian politics."
   ]
  },
  {
   "cell_type": "code",
   "execution_count": 112,
   "metadata": {},
   "outputs": [],
   "source": [
    "res = requests.get(\"https://www.abc.net.au/news/2019-02-01/donations-australia-federal-politics-foreign/10768226\")\n",
    "soup = BeautifulSoup(res.content,'lxml')\n",
    "table = soup.find_all('table')[0] \n",
    "donors = pd.read_html(str(table))[0]\n"
   ]
  },
  {
   "cell_type": "code",
   "execution_count": 115,
   "metadata": {},
   "outputs": [
    {
     "data": {
      "text/html": [
       "<div>\n",
       "<style scoped>\n",
       "    .dataframe tbody tr th:only-of-type {\n",
       "        vertical-align: middle;\n",
       "    }\n",
       "\n",
       "    .dataframe tbody tr th {\n",
       "        vertical-align: top;\n",
       "    }\n",
       "\n",
       "    .dataframe thead th {\n",
       "        text-align: right;\n",
       "    }\n",
       "</style>\n",
       "<table border=\"1\" class=\"dataframe\">\n",
       "  <thead>\n",
       "    <tr style=\"text-align: right;\">\n",
       "      <th></th>\n",
       "      <th>Donor</th>\n",
       "      <th>Recipient</th>\n",
       "      <th>Amount</th>\n",
       "      <th>Number of donations</th>\n",
       "    </tr>\n",
       "  </thead>\n",
       "  <tbody>\n",
       "    <tr>\n",
       "      <th>1</th>\n",
       "      <td>Prof Chilla Bulbeck</td>\n",
       "      <td>The Greens (WA) Inc</td>\n",
       "      <td>599860</td>\n",
       "      <td>11</td>\n",
       "    </tr>\n",
       "    <tr>\n",
       "      <th>2</th>\n",
       "      <td>Electrical Trades Union of Australia - Victori...</td>\n",
       "      <td>Australian Labor Party (ALP)</td>\n",
       "      <td>450000</td>\n",
       "      <td>4</td>\n",
       "    </tr>\n",
       "    <tr>\n",
       "      <th>3</th>\n",
       "      <td>The Michael Crouch Foundation</td>\n",
       "      <td>Liberal Party of Australia</td>\n",
       "      <td>350000</td>\n",
       "      <td>2</td>\n",
       "    </tr>\n",
       "    <tr>\n",
       "      <th>4</th>\n",
       "      <td>Australian Hotels Association Tasmanian Hospit...</td>\n",
       "      <td>Liberal Party of Australia - Tasmanian Division</td>\n",
       "      <td>269750</td>\n",
       "      <td>14</td>\n",
       "    </tr>\n",
       "  </tbody>\n",
       "</table>\n",
       "</div>"
      ],
      "text/plain": [
       "                                               Donor  \\\n",
       "1                                Prof Chilla Bulbeck   \n",
       "2  Electrical Trades Union of Australia - Victori...   \n",
       "3                      The Michael Crouch Foundation   \n",
       "4  Australian Hotels Association Tasmanian Hospit...   \n",
       "\n",
       "                                         Recipient  Amount  \\\n",
       "1                              The Greens (WA) Inc  599860   \n",
       "2                     Australian Labor Party (ALP)  450000   \n",
       "3                       Liberal Party of Australia  350000   \n",
       "4  Liberal Party of Australia - Tasmanian Division  269750   \n",
       "\n",
       "   Number of donations  \n",
       "1                   11  \n",
       "2                    4  \n",
       "3                    2  \n",
       "4                   14  "
      ]
     },
     "execution_count": 115,
     "metadata": {},
     "output_type": "execute_result"
    }
   ],
   "source": [
    "donors[1:5]"
   ]
  },
  {
   "cell_type": "code",
   "execution_count": 114,
   "metadata": {},
   "outputs": [],
   "source": [
    "donors.columns = ['Donor', 'Recipient', 'Amount', 'Number of donations']\n"
   ]
  },
  {
   "cell_type": "code",
   "execution_count": 93,
   "metadata": {},
   "outputs": [
    {
     "data": {
      "text/plain": [
       "pandas.core.series.Series"
      ]
     },
     "execution_count": 93,
     "metadata": {},
     "output_type": "execute_result"
    }
   ],
   "source": [
    "type(donors)\n"
   ]
  },
  {
   "cell_type": "code",
   "execution_count": 97,
   "metadata": {},
   "outputs": [
    {
     "data": {
      "text/plain": [
       "(702, 4)"
      ]
     },
     "execution_count": 97,
     "metadata": {},
     "output_type": "execute_result"
    }
   ],
   "source": [
    "donors.describe()\n",
    "donors.shape"
   ]
  },
  {
   "cell_type": "code",
   "execution_count": 117,
   "metadata": {},
   "outputs": [],
   "source": [
    "donors.to_csv('/Users/Vidya/Projects/datasets/donors.csv',index = False)\n"
   ]
  },
  {
   "cell_type": "code",
   "execution_count": 109,
   "metadata": {},
   "outputs": [
    {
     "data": {
      "text/plain": [
       "18481551"
      ]
     },
     "execution_count": 109,
     "metadata": {},
     "output_type": "execute_result"
    }
   ],
   "source": [
    "#This dataset contains declarations made by political donors for the 2015-16 financial year. \n",
    "donor_dec = pd.read_csv(\"/Users/Vidya/Downloads/donor-declarations-categorised-2016.csv\")\n"
   ]
  },
  {
   "cell_type": "code",
   "execution_count": 118,
   "metadata": {},
   "outputs": [
    {
     "ename": "NameError",
     "evalue": "name 'donor_dec' is not defined",
     "output_type": "error",
     "traceback": [
      "\u001b[0;31m---------------------------------------------------------------------------\u001b[0m",
      "\u001b[0;31mNameError\u001b[0m                                 Traceback (most recent call last)",
      "\u001b[0;32m<ipython-input-118-10d7a840d49b>\u001b[0m in \u001b[0;36m<module>\u001b[0;34m()\u001b[0m\n\u001b[0;32m----> 1\u001b[0;31m \u001b[0mdonor_dec\u001b[0m\u001b[0;34m.\u001b[0m\u001b[0mcolumns\u001b[0m \u001b[0;34m=\u001b[0m \u001b[0;34m[\u001b[0m\u001b[0;34m'Donor'\u001b[0m\u001b[0;34m,\u001b[0m \u001b[0;34m'Amount'\u001b[0m\u001b[0;34m,\u001b[0m\u001b[0;34m'Recipient'\u001b[0m\u001b[0;34m,\u001b[0m\u001b[0;34m'Party'\u001b[0m\u001b[0;34m,\u001b[0m \u001b[0;34m'Period'\u001b[0m\u001b[0;34m,\u001b[0m\u001b[0;34m'DonorID'\u001b[0m\u001b[0;34m,\u001b[0m\u001b[0;34m'RecipientID'\u001b[0m\u001b[0;34m,\u001b[0m \u001b[0;34m'Donor State'\u001b[0m\u001b[0;34m,\u001b[0m \u001b[0;34m'Donor Address'\u001b[0m\u001b[0;34m,\u001b[0m \u001b[0;34m'Donor Postcode'\u001b[0m\u001b[0;34m,\u001b[0m \u001b[0;34m'Donor Category'\u001b[0m\u001b[0;34m]\u001b[0m\u001b[0;34m\u001b[0m\u001b[0m\n\u001b[0m",
      "\u001b[0;31mNameError\u001b[0m: name 'donor_dec' is not defined"
     ]
    }
   ],
   "source": [
    "donor_dec.columns = ['Donor', 'Amount','Recipient','Party', 'Period','DonorID','RecipientID', 'Donor State', 'Donor Address', 'Donor Postcode', 'Donor Category']\n"
   ]
  },
  {
   "cell_type": "code",
   "execution_count": null,
   "metadata": {},
   "outputs": [],
   "source": [
    "donor_dec.shape"
   ]
  },
  {
   "cell_type": "code",
   "execution_count": null,
   "metadata": {},
   "outputs": [],
   "source": [
    "donor_cat = donor_dec[['Donor','Donor Category']].copy()\n"
   ]
  },
  {
   "cell_type": "code",
   "execution_count": null,
   "metadata": {},
   "outputs": [],
   "source": [
    "donor_cat_drop = donor_cat.drop_duplicates()"
   ]
  },
  {
   "cell_type": "code",
   "execution_count": null,
   "metadata": {},
   "outputs": [],
   "source": [
    "donor_final = pd.merge(donors,donor_cat_drop, on ='Donor', how='left')\n"
   ]
  },
  {
   "cell_type": "code",
   "execution_count": null,
   "metadata": {},
   "outputs": [],
   "source": [
    "donor_final.loc[donor_final['Donor'].str.match('Mr'), 'Donor Category'] = 'Individual'\n"
   ]
  },
  {
   "cell_type": "code",
   "execution_count": null,
   "metadata": {},
   "outputs": [],
   "source": [
    "donor_final.isnull().values.sum()\n"
   ]
  },
  {
   "cell_type": "code",
   "execution_count": null,
   "metadata": {},
   "outputs": [],
   "source": [
    "donor_final['Donor Category'] = donor_final['Donor Category'].fillna('Unknown')\n"
   ]
  },
  {
   "cell_type": "code",
   "execution_count": 119,
   "metadata": {},
   "outputs": [
    {
     "ename": "NameError",
     "evalue": "name 'donor_final' is not defined",
     "output_type": "error",
     "traceback": [
      "\u001b[0;31m---------------------------------------------------------------------------\u001b[0m",
      "\u001b[0;31mNameError\u001b[0m                                 Traceback (most recent call last)",
      "\u001b[0;32m<ipython-input-119-6e0d9ed628f3>\u001b[0m in \u001b[0;36m<module>\u001b[0;34m()\u001b[0m\n\u001b[0;32m----> 1\u001b[0;31m \u001b[0mdonor_final\u001b[0m\u001b[0;34m.\u001b[0m\u001b[0mto_csv\u001b[0m\u001b[0;34m(\u001b[0m\u001b[0;34m\"/Users/Vidya/Projects/datasets/donor_final.csv\"\u001b[0m\u001b[0;34m)\u001b[0m\u001b[0;34m\u001b[0m\u001b[0m\n\u001b[0m",
      "\u001b[0;31mNameError\u001b[0m: name 'donor_final' is not defined"
     ]
    }
   ],
   "source": [
    "donor_final.to_csv(\"/Users/Vidya/Projects/datasets/donor_final.csv\")"
   ]
  },
  {
   "cell_type": "code",
   "execution_count": null,
   "metadata": {},
   "outputs": [],
   "source": []
  }
 ],
 "metadata": {
  "kernelspec": {
   "display_name": "Python 2",
   "language": "python",
   "name": "python2"
  },
  "language_info": {
   "codemirror_mode": {
    "name": "ipython",
    "version": 2
   },
   "file_extension": ".py",
   "mimetype": "text/x-python",
   "name": "python",
   "nbconvert_exporter": "python",
   "pygments_lexer": "ipython2",
   "version": "2.7.15"
  }
 },
 "nbformat": 4,
 "nbformat_minor": 2
}
